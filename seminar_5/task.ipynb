{
 "cells": [
  {
   "attachments": {},
   "cell_type": "markdown",
   "metadata": {},
   "source": [
    "# Семинар 5. Практическая работа. \n",
    "## Задание 1:  \n",
    "Вы провели эксперимент c упрощением формы заказа в магазине Утконос и получили результаты по метрике конверсий в покупку.  \n",
    "Выберите метод оценки и оцените есть ли стат.значимые различия между конверсиями в двух группах при alpha = 5%.  \n",
    "Дайте краткие рекомендации команде.  \n",
    "Результаты:  \n",
    "1. Число юзеров в группах , которые заходили на сайт в период эксперимента: n1 = 15550 и n2 = 15550.  \n",
    "2. Число юзеров в группах , которые совершили хотя бы одну покупку за период эксперимента: n1 = 164 и n2 = 228  \n",
    "3. Конверсии : conv1 = 1.05% conv2 = 1.47%.\n"
   ]
  },
  {
   "cell_type": "code",
   "execution_count": 12,
   "metadata": {},
   "outputs": [],
   "source": [
    "import numpy as np\n",
    "from scipy.stats import chi2_contingency"
   ]
  },
  {
   "cell_type": "code",
   "execution_count": 13,
   "metadata": {},
   "outputs": [],
   "source": [
    "alpha = 0.05\n",
    "n1 = 15550\n",
    "n2 = 15550\n",
    "conv1 = 1.05 / 100\n",
    "conv2 = 1.47 / 100"
   ]
  },
  {
   "cell_type": "code",
   "execution_count": 14,
   "metadata": {},
   "outputs": [],
   "source": [
    "expected_values = np.array([[n1 * (1 - conv1), n1 * conv1], [n2 * (1 - conv2), n2 * conv2]])"
   ]
  },
  {
   "cell_type": "code",
   "execution_count": 15,
   "metadata": {},
   "outputs": [
    {
     "data": {
      "text/plain": [
       "0.0010778034840085177"
      ]
     },
     "execution_count": 15,
     "metadata": {},
     "output_type": "execute_result"
    }
   ],
   "source": [
    "chi2, p_value, _, _ = chi2_contingency(expected_values)\n",
    "p_value"
   ]
  },
  {
   "attachments": {},
   "cell_type": "markdown",
   "metadata": {},
   "source": [
    "### Вывод:\n",
    "Мы отвергаем нулевую гипотезу о том что различий между группами нет,  \n",
    "так как, alpha больше p value.  \n",
    "Это говорит о там, что есть статистически значимые различия  \n",
    "и рекомендуем внести изменения для всех пользователей сервиса.\n",
    "\n",
    "_____________________"
   ]
  },
  {
   "attachments": {},
   "cell_type": "markdown",
   "metadata": {},
   "source": [
    "## Задание 2:  \n",
    "Сравниваем метрику конверсия в покупку. Размер выборки - 10000 элементов в каждой группе.  \n",
    "Какой статистический критерий тут лучше всего подойдёт и почему?"
   ]
  },
  {
   "attachments": {},
   "cell_type": "markdown",
   "metadata": {},
   "source": [
    "### Предлагаемое решение:\n",
    "\n",
    "Для сравнения конверсии в покупку между двумя группами с выборкой размером 10000 элементов в каждой группе,  \n",
    "рекомендуется использовать Z-тест. Этот тест подходит, когда размер выборки больше 30, данные приближенно нормально распределены,  \n",
    "и мы хотим сравнить средние значения (конверсии) в двух независимых группах.  \n",
    "Z-тест позволит оценить статистическую значимость различий между группами и сделать выводы на основе результатов."
   ]
  }
 ],
 "metadata": {
  "kernelspec": {
   "display_name": "Python 3",
   "language": "python",
   "name": "python3"
  },
  "language_info": {
   "codemirror_mode": {
    "name": "ipython",
    "version": 3
   },
   "file_extension": ".py",
   "mimetype": "text/x-python",
   "name": "python",
   "nbconvert_exporter": "python",
   "pygments_lexer": "ipython3",
   "version": "3.11.1"
  },
  "orig_nbformat": 4
 },
 "nbformat": 4,
 "nbformat_minor": 2
}
